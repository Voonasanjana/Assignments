{
 "cells": [
  {
   "cell_type": "markdown",
   "metadata": {},
   "source": [
    "1.1 Write a Python Program(with class concepts) to find the area of the triangle using the below\n",
    "formula.\n",
    "area = (s*(s-a)*(s-b)*(s-c)) ** 0.5\n",
    "Function to take the length of the sides of triangle from user should be defined in the parent\n",
    "class and function to calculate the area should be defined in subclass."
   ]
  },
  {
   "cell_type": "code",
   "execution_count": 1,
   "metadata": {},
   "outputs": [
    {
     "name": "stdout",
     "output_type": "stream",
     "text": [
      "a=4\n",
      "b=6\n",
      "c=7\n",
      "area : 11.976539567003485\n"
     ]
    }
   ],
   "source": [
    "class poly:\n",
    "    def __init__(self,a,b,c):\n",
    "        self.a = float(a)\n",
    "        self.b = float(b)\n",
    "        self.c = float(c)\n",
    "a= int(input(\"a=\"))\n",
    "b= int(input(\"b=\"))\n",
    "c= int(input(\"c=\"))\n",
    "\n",
    "class triangle(poly):\n",
    "    def __init__(self,a,b,c):\n",
    "        super().__init__(a,b,c)\n",
    "\n",
    "    def get_area(self):\n",
    "        s = (a + b + c) / 2\n",
    "        return (s*(s-a)*(s-b)*(s-c)) ** 0.5 \n",
    "        \n",
    "\n",
    "t = triangle(a,b,c)\n",
    "print(\"area : {}\".format(t.get_area()))"
   ]
  },
  {
   "cell_type": "markdown",
   "metadata": {},
   "source": [
    "1.2 Write a function filter_long_words() that takes a list of words and an integer n and returns\n",
    "the list of words that are longer than n."
   ]
  },
  {
   "cell_type": "code",
   "execution_count": 2,
   "metadata": {},
   "outputs": [
    {
     "name": "stdout",
     "output_type": "stream",
     "text": [
      "['quick', 'brown', 'jumps', 'over', 'lazy']\n"
     ]
    }
   ],
   "source": [
    "def long_words(n, str):  \n",
    "    word_len = []  \n",
    "    txt = str.split(\" \")  \n",
    "    for x in txt:  \n",
    "        if len(x) > n:  \n",
    "            word_len.append(x)  \n",
    "    return word_len   \n",
    "print(long_words(3, \"The quick brown fox jumps over the lazy dog\"))  \n"
   ]
  },
  {
   "cell_type": "markdown",
   "metadata": {},
   "source": [
    "2.1 Write a Python program using function concept that maps list of words into a list of integers\n",
    "representing the lengths of the corresponding words.\n",
    "Hint: If a list [ ab,cde,erty] is passed on to the python function output should come as [2,3,4]\n",
    "Here 2,3 and 4 are the lengths of the words in the list."
   ]
  },
  {
   "cell_type": "code",
   "execution_count": 26,
   "metadata": {},
   "outputs": [
    {
     "name": "stdout",
     "output_type": "stream",
     "text": [
      "List of words:['wordOne', 'wordTwo', 'wordThree', 'wordFour', 'wordFive']\n",
      "List of wordlength:[7, 7, 9, 8, 8]\n"
     ]
    }
   ],
   "source": [
    "listOfWords = ['wordOne','wordTwo','wordThree','wordFour','wordFive']\n",
    "\n",
    "listOfInts = []\n",
    "\n",
    "for i in range(len(listOfWords)):\n",
    "    listOfInts.append(len(listOfWords[i]))\n",
    "\n",
    "print (\"List of words:\"+str(listOfWords))    \n",
    "print (\"List of wordlength:\"+str(listOfInts))"
   ]
  },
  {
   "cell_type": "markdown",
   "metadata": {},
   "source": [
    "2.2 Write a Python function which takes a character (i.e. a string of length 1) and returns True if\n",
    "it is a vowel, False otherwise."
   ]
  },
  {
   "cell_type": "code",
   "execution_count": 37,
   "metadata": {},
   "outputs": [
    {
     "name": "stdout",
     "output_type": "stream",
     "text": [
      "enter a string of length 1: a\n",
      "True\n"
     ]
    }
   ],
   "source": [
    "def isVowel(char):\n",
    "    if char.lower() in 'aeiou':\n",
    "        return True\n",
    "    else:\n",
    "        return False\n",
    "char=input(\"enter a string of length 1: \")\n",
    "print(isVowel(char))"
   ]
  },
  {
   "cell_type": "code",
   "execution_count": 33,
   "metadata": {},
   "outputs": [
    {
     "name": "stdout",
     "output_type": "stream",
     "text": [
      "False\n",
      "True\n",
      "False\n"
     ]
    }
   ],
   "source": [
    "def is_vowel(char):\n",
    "    vowels = ('a', 'e', 'i', 'o', 'u')\n",
    "    if char not in vowels:\n",
    "        return False\n",
    "    return True\n",
    "\n",
    "\n",
    "if __name__ == \"__main__\":\n",
    "    print (is_vowel(1))\n",
    "    print (is_vowel('a'))\n",
    "    print (is_vowel('b'))"
   ]
  },
  {
   "cell_type": "code",
   "execution_count": null,
   "metadata": {},
   "outputs": [],
   "source": []
  }
 ],
 "metadata": {
  "kernelspec": {
   "display_name": "Python 3",
   "language": "python",
   "name": "python3"
  },
  "language_info": {
   "codemirror_mode": {
    "name": "ipython",
    "version": 3
   },
   "file_extension": ".py",
   "mimetype": "text/x-python",
   "name": "python",
   "nbconvert_exporter": "python",
   "pygments_lexer": "ipython3",
   "version": "3.7.3"
  }
 },
 "nbformat": 4,
 "nbformat_minor": 4
}
