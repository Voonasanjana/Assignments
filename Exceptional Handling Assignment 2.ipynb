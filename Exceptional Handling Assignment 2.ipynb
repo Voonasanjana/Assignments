{
 "cells": [
  {
   "cell_type": "markdown",
   "metadata": {},
   "source": [
    "* <b>Write a function to compute 5/0 and use try/except to catch the exceptions.</b>"
   ]
  },
  {
   "cell_type": "code",
   "execution_count": 3,
   "metadata": {},
   "outputs": [],
   "source": [
    "def divisionerror():\n",
    "        try:\n",
    "            val = int(input(\"Please enter an integer: \"))\n",
    "            num = int(input(\"Please enter an integer: \"))\n",
    "            divide=val/num\n",
    "        except Exception as e :\n",
    "   \n",
    "            print(\"this block is having some kind of issue : \" , e)\n",
    "\n",
    "        finally:\n",
    "            print(\"Finally, I executed!\")\n",
    "          "
   ]
  },
  {
   "cell_type": "code",
   "execution_count": 4,
   "metadata": {},
   "outputs": [
    {
     "name": "stdout",
     "output_type": "stream",
     "text": [
      "Please enter an integer: 5\n",
      "Please enter an integer: 0\n",
      "this block is having some kind of issue :  division by zero\n",
      "Finally, I executed!\n"
     ]
    }
   ],
   "source": [
    "divisionerror()"
   ]
  },
  {
   "cell_type": "markdown",
   "metadata": {},
   "source": [
    "<b>2. Implement a Python program to generate all sentences where subject is in\n",
    "[\"Americans\", \"Indians\"] and verb is in [\"Play\", \"watch\"] and the object is in\n",
    "[\"Baseball\",\"cricket\"].\n",
    "Hint: Subject,Verb and Object should be declared in the program as shown below.\n",
    "* subjects=[\"Americans \",\"Indians\"]\n",
    "* verbs=[\"play\",\"watch\"]\n",
    "* objects=[\"Baseball\",\"Cricket\"]</b>"
   ]
  },
  {
   "cell_type": "code",
   "execution_count": 9,
   "metadata": {},
   "outputs": [
    {
     "name": "stdout",
     "output_type": "stream",
     "text": [
      "Americans play Baseball.\n",
      "Americans play Cricket.\n",
      "Americans watch Baseball.\n",
      "Americans watch Cricket.\n",
      "Indians play Baseball.\n",
      "Indians play Cricket.\n",
      "Indians watch Baseball.\n",
      "Indians watch Cricket.\n"
     ]
    }
   ],
   "source": [
    "a=[\"Americans\",\"Indians\"]\n",
    "b=[\"play\",\"watch\"]\n",
    "c=[\"Baseball\",\"Cricket\"]\n",
    "for i in a:\n",
    "    for j in b:\n",
    "        for k in c:\n",
    "            print(i,j,k+'.')"
   ]
  }
 ],
 "metadata": {
  "kernelspec": {
   "display_name": "Python 3",
   "language": "python",
   "name": "python3"
  },
  "language_info": {
   "codemirror_mode": {
    "name": "ipython",
    "version": 3
   },
   "file_extension": ".py",
   "mimetype": "text/x-python",
   "name": "python",
   "nbconvert_exporter": "python",
   "pygments_lexer": "ipython3",
   "version": "3.7.3"
  }
 },
 "nbformat": 4,
 "nbformat_minor": 4
}
